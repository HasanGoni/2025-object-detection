{
 "cells": [
  {
   "cell_type": "markdown",
   "metadata": {},
   "source": [
    "# Core Module\n",
    "\n",
    "> Core functionality for object detection"
   ]
  },
  {
   "cell_type": "code",
   "execution_count": null,
   "metadata": {},
   "outputs": [],
   "source": [
    "#| default_exp core"
   ]
  },
  {
   "cell_type": "code",
   "execution_count": null,
   "metadata": {},
   "outputs": [],
   "source": [
    "#| export\n",
    "import torch\n",
    "import torch.nn as nn\n",
    "import torchvision\n",
    "import numpy as np\n",
    "import matplotlib.pyplot as plt\n",
    "from pathlib import Path\n",
    "from typing import Dict, List, Tuple, Union, Optional, Callable"
   ]
  },
  {
   "cell_type": "code",
   "execution_count": null,
   "metadata": {},
   "outputs": [],
   "source": [
    "#| hide\n",
    "from nbdev.showdoc import *"
   ]
  },
  {
   "cell_type": "markdown",
   "metadata": {},
   "source": [
    "## Bounding Box Utilities"
   ]
  },
  {
   "cell_type": "code",
   "execution_count": null,
   "metadata": {},
   "outputs": [],
   "source": [
    "#| export\n",
    "def box_cxcywh_to_xyxy(x):\n",
    "    \"\"\"Convert bounding box from (center_x, center_y, width, height) to (x1, y1, x2, y2) format.\n",
    "    \n",
    "    Args:\n",
    "        x: tensor of shape (..., 4) containing bounding boxes in (cx, cy, w, h) format\n",
    "        \n",
    "    Returns:\n",
    "        tensor of same shape containing boxes in (x1, y1, x2, y2) format\n",
    "    \"\"\"\n",
    "    x_c, y_c, w, h = x.unbind(-1)\n",
    "    b = [(x_c - 0.5 * w), (y_c - 0.5 * h),\n",
    "         (x_c + 0.5 * w), (y_c + 0.5 * h)]\n",
    "    return torch.stack(b, dim=-1)"
   ]
  },
  {
   "cell_type": "code",
   "execution_count": null,
   "metadata": {},
   "outputs": [],
   "source": [
    "#| export\n",
    "def box_xyxy_to_cxcywh(x):\n",
    "    \"\"\"Convert bounding box from (x1, y1, x2, y2) to (center_x, center_y, width, height) format.\n",
    "    \n",
    "    Args:\n",
    "        x: tensor of shape (..., 4) containing bounding boxes in (x1, y1, x2, y2) format\n",
    "        \n",
    "    Returns:\n",
    "        tensor of same shape containing boxes in (cx, cy, w, h) format\n",
    "    \"\"\"\n",
    "    x0, y0, x1, y1 = x.unbind(-1)\n",
    "    b = [(x0 + x1) / 2, (y0 + y1) / 2,\n",
    "         (x1 - x0), (y1 - y0)]\n",
    "    return torch.stack(b, dim=-1)"
   ]
  },
  {
   "cell_type": "code",
   "execution_count": null,
   "metadata": {},
   "outputs": [],
   "source": [
    "#| export\n",
    "def box_iou(boxes1, boxes2):\n",
    "    \"\"\"Compute intersection over union between boxes.\n",
    "    \n",
    "    Args:\n",
    "        boxes1: tensor of shape (N, 4) containing N boxes in (x1, y1, x2, y2) format\n",
    "        boxes2: tensor of shape (M, 4) containing M boxes in (x1, y1, x2, y2) format\n",
    "        \n",
    "    Returns:\n",
    "        tensor of shape (N, M) containing pairwise IoU values\n",
    "    \"\"\"\n",
    "    area1 = torch.prod(boxes1[:, 2:] - boxes1[:, :2], 1)\n",
    "    area2 = torch.prod(boxes2[:, 2:] - boxes2[:, :2], 1)\n",
    "    \n",
    "    lt = torch.max(boxes1[:, None, :2], boxes2[:, :2])  # left-top [N,M,2]\n",
    "    rb = torch.min(boxes1[:, None, 2:], boxes2[:, 2:])  # right-bottom [N,M,2]\n",
    "    \n",
    "    wh = (rb - lt).clamp(min=0)  # [N,M,2]\n",
    "    inter = wh[:, :, 0] * wh[:, :, 1]  # [N,M]\n",
    "    \n",
    "    union = area1[:, None] + area2 - inter\n",
    "    \n",
    "    iou = inter / union\n",
    "    return iou"
   ]
  },
  {
   "cell_type": "markdown",
   "metadata": {},
   "source": [
    "## Visualization Functions"
   ]
  },
  {
   "cell_type": "code",
   "execution_count": null,
   "metadata": {},
   "outputs": [],
   "source": [
    "#| export\n",
    "def plot_boxes(img, boxes, labels=None, scores=None, class_names=None, figsize=(10, 10)):\n",
    "    \"\"\"Plot bounding boxes on an image.\n",
    "    \n",
    "    Args:\n",
    "        img: PIL Image or tensor\n",
    "        boxes: tensor of shape (N, 4) containing boxes in (x1, y1, x2, y2) format, values in [0, 1]\n",
    "        labels: optional tensor of shape (N,) containing class labels\n",
    "        scores: optional tensor of shape (N,) containing confidence scores\n",
    "        class_names: optional list of class names for label mapping\n",
    "        figsize: figure size\n",
    "        \n",
    "    Returns:\n",
    "        matplotlib figure\n",
    "    \"\"\"\n",
    "    if isinstance(img, torch.Tensor):\n",
    "        img = torchvision.transforms.ToPILImage()(img.cpu())\n",
    "        \n",
    "    fig, ax = plt.subplots(1, figsize=figsize)\n",
    "    ax.imshow(img)\n",
    "    \n",
    "    # Random colors for different classes\n",
    "    colors = np.random.rand(20, 3) if labels is not None else [[0, 1, 0]]\n",
    "    \n",
    "    if boxes is not None and len(boxes):\n",
    "        boxes = boxes.cpu().numpy()\n",
    "        \n",
    "        # Convert normalized coordinates to pixel coordinates\n",
    "        height, width = img.height, img.width\n",
    "        boxes[:, [0, 2]] *= width\n",
    "        boxes[:, [1, 3]] *= height\n",
    "        \n",
    "        for i, box in enumerate(boxes):\n",
    "            x1, y1, x2, y2 = box\n",
    "            \n",
    "            # Determine color based on class label\n",
    "            if labels is not None:\n",
    "                label_id = labels[i].item() if isinstance(labels[i], torch.Tensor) else labels[i]\n",
    "                color = colors[label_id % len(colors)]\n",
    "            else:\n",
    "                color = colors[0]\n",
    "                \n",
    "            # Plot box\n",
    "            rect = plt.Rectangle((x1, y1), x2 - x1, y2 - y1, fill=False, \n",
    "                               edgecolor=color, linewidth=2)\n",
    "            ax.add_patch(rect)\n",
    "            \n",
    "            # Add label and score if available\n",
    "            if labels is not None:\n",
    "                label_txt = class_names[label_id] if class_names else f'Class {label_id}'\n",
    "                if scores is not None:\n",
    "                    score = scores[i].item() if isinstance(scores[i], torch.Tensor) else scores[i]\n",
    "                    label_txt += f': {score:.2f}'\n",
    "                    \n",
    "                ax.text(x1, y1, label_txt, bbox=dict(facecolor=color, alpha=0.5))\n",
    "                \n",
    "    plt.axis('off')\n",
    "    return fig"
   ]
  },
  {
   "cell_type": "markdown",
   "metadata": {},
   "source": [
    "## Basic Tests"
   ]
  },
  {
   "cell_type": "code",
   "execution_count": null,
   "metadata": {},
   "outputs": [],
   "source": [
    "# Test box conversion functions\n",
    "boxes_xyxy = torch.tensor([[0.1, 0.2, 0.5, 0.6], [0.3, 0.4, 0.7, 0.8]])\n",
    "boxes_cxcywh = box_xyxy_to_cxcywh(boxes_xyxy)\n",
    "boxes_xyxy2 = box_cxcywh_to_xyxy(boxes_cxcywh)\n",
    "\n",
    "assert torch.allclose(boxes_xyxy, boxes_xyxy2), \"Box conversion is not reversible\""
   ]
  },
  {
   "cell_type": "code",
   "execution_count": null,
   "metadata": {},
   "outputs": [],
   "source": [
    "# Test IoU calculation\n",
    "boxes1 = torch.tensor([[0.1, 0.1, 0.5, 0.5], [0.3, 0.3, 0.7, 0.7]])\n",
    "boxes2 = torch.tensor([[0.3, 0.3, 0.6, 0.6], [0.7, 0.7, 0.9, 0.9]])\n",
    "\n",
    "iou = box_iou(boxes1, boxes2)\n",
    "assert iou.shape == (2, 2), f\"Expected shape (2, 2), got {iou.shape}\""
   ]
  }
 ],
 "metadata": {
  "kernelspec": {
   "display_name": "Python 3 (ipykernel)",
   "language": "python",
   "name": "python3"
  }
 },
 "nbformat": 4,
 "nbformat_minor": 4
}