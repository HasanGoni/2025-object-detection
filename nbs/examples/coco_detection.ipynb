{
 "cells": [
  {
   "cell_type": "markdown",
   "metadata": {},
   "source": [
    "# Object Detection on COCO Dataset\n",
    "\n",
    "> Example of training an object detection model on COCO dataset"
   ]
  },
  {
   "cell_type": "code",
   "execution_count": null,
   "metadata": {},
   "outputs": [],
   "source": [
    "import torch\n",
    "import torchvision\n",
    "import matplotlib.pyplot as plt\n",
    "from pathlib import Path\n",
    "import numpy as np\n",
    "from PIL import Image\n",
    "\n",
    "from objdetect.data import ObjectDetectionDataset, get_detection_transforms\n",
    "from objdetect.models import create_model\n",
    "from objdetect.learner import ObjectDetectionLearner, SaveModelCallback\n",
    "from objdetect.core import plot_boxes"
   ]
  },
  {
   "cell_type": "markdown",
   "metadata": {},
   "source": [
    "## Load COCO Dataset\n",
    "\n",
    "First, we'll load the COCO dataset. You should download the COCO dataset from [https://cocodataset.org](https://cocodataset.org) and extract it to a local directory."
   ]
  },
  {
   "cell_type": "code",
   "execution_count": null,
   "metadata": {},
   "outputs": [],
   "source": [
    "# Set path to COCO dataset\n",
    "coco_path = Path('path/to/coco')\n",
    "\n",
    "# Create transforms for training and validation\n",
    "train_transforms = get_detection_transforms(train=True, size=640)\n",
    "val_transforms = get_detection_transforms(train=False, size=640)\n",
    "\n",
    "# Load COCO datasets\n",
    "train_ds = ObjectDetectionDataset.from_coco(coco_path, splits=['train'], transforms=train_transforms)\n",
    "val_ds = ObjectDetectionDataset.from_coco(coco_path, splits=['val'], transforms=val_transforms)"
   ]
  },
  {
   "cell_type": "code",
   "execution_count": null,
   "metadata": {},
   "outputs": [],
   "source": [
    "# Check dataset\n",
    "print(f\"Number of training samples: {len(train_ds)}\")\n",
    "print(f\"Number of validation samples: {len(val_ds)}\")\n",
    "print(f\"Number of classes: {train_ds.num_classes}\")\n",
    "if train_ds.class_names:\n",
    "    print(f\"Class names: {train_ds.class_names}\")"
   ]
  },
  {
   "cell_type": "code",
   "execution_count": null,
   "metadata": {},
   "outputs": [],
   "source": [
    "# Visualize a sample from the dataset\n",
    "sample_idx = 0\n",
    "train_ds.show_sample(sample_idx)"
   ]
  },
  {
   "cell_type": "markdown",
   "metadata": {},
   "source": [
    "## Create Model and Learner"
   ]
  },
  {
   "cell_type": "code",
   "execution_count": null,
   "metadata": {},
   "outputs": [],
   "source": [
    "# Create Faster R-CNN model\n",
    "model = create_model(model_name=\"faster_rcnn\", num_classes=train_ds.num_classes,\n",
    "                     backbone_name=\"resnet50\", pretrained_backbone=True)\n",
    "\n",
    "# Create learner\n",
    "learner = ObjectDetectionLearner(\n",
    "    dataset=(train_ds, val_ds),\n",
    "    model=model,\n",
    "    batch_size=2,\n",
    "    num_workers=2,\n",
    "    callbacks=[SaveModelCallback(save_path='checkpoints', save_name='faster_rcnn')]\n",
    ")"
   ]
  },
  {
   "cell_type": "markdown",
   "metadata": {},
   "source": [
    "## Train the Model"
   ]
  },
  {
   "cell_type": "code",
   "execution_count": null,
   "metadata": {},
   "outputs": [],
   "source": [
    "# Train with one cycle policy\n",
    "learner.fit_one_cycle(n_epochs=10, max_lr=1e-4)"
   ]
  },
  {
   "cell_type": "markdown",
   "metadata": {},
   "source": [
    "## Make Predictions"
   ]
  },
  {
   "cell_type": "code",
   "execution_count": null,
   "metadata": {},
   "outputs": [],
   "source": [
    "# Make prediction on a sample image\n",
    "img_idx = 5  # Choose a sample from validation set\n",
    "img, _ = val_ds[img_idx]\n",
    "\n",
    "# Predict\n",
    "pred = learner.predict(img, threshold=0.5)\n",
    "\n",
    "# Show results\n",
    "learner.show_results(img, pred)"
   ]
  },
  {
   "cell_type": "code",
   "execution_count": null,
   "metadata": {},
   "outputs": [],
   "source": [
    "# Predict on an external image\n",
    "external_img_path = 'path/to/image.jpg'\n",
    "learner.show_results(external_img_path)"
   ]
  },
  {
   "cell_type": "markdown",
   "metadata": {},
   "source": [
    "## Save and Load Model"
   ]
  },
  {
   "cell_type": "code",
   "execution_count": null,
   "metadata": {},
   "outputs": [],
   "source": [
    "# Save model manually\n",
    "torch.save(learner.model.state_dict(), 'faster_rcnn_coco.pth')\n",
    "\n",
    "# Load model\n",
    "new_model = create_model(model_name=\"faster_rcnn\", num_classes=train_ds.num_classes)\n",
    "new_model.load_state_dict(torch.load('faster_rcnn_coco.pth'))\n",
    "\n",
    "# Create a new learner with loaded model\n",
    "new_learner = ObjectDetectionLearner(\n",
    "    dataset=(train_ds, val_ds),\n",
    "    model=new_model,\n",
    "    batch_size=2\n",
    ")"
   ]
  },
  {
   "cell_type": "markdown",
   "metadata": {},
   "source": [
    "## Evaluate Model"
   ]
  },
  {
   "cell_type": "code",
   "execution_count": null,
   "metadata": {},
   "outputs": [],
   "source": [
    "# Evaluate on validation set\n",
    "def evaluate(learner, dataset, threshold=0.5, iou_threshold=0.5):\n",
    "    \"\"\"Simple evaluation function.\"\"\"\n",
    "    learner.model.eval()\n",
    "    correct = 0\n",
    "    total = 0\n",
    "    \n",
    "    with torch.no_grad():\n",
    "        for idx in range(len(dataset)):\n",
    "            img, target = dataset[idx]\n",
    "            pred = learner.predict(img, threshold=threshold)\n",
    "            \n",
    "            # TODO: Calculate metrics like mAP\n",
    "            # This is a placeholder for actual evaluation\n",
    "            \n",
    "    return {\"placeholder\": 0.0}"
   ]
  },
  {
   "cell_type": "code",
   "execution_count": null,
   "metadata": {},
   "outputs": [],
   "source": [
    "# Run evaluation\n",
    "metrics = evaluate(learner, val_ds)\n",
    "print(f\"Evaluation metrics: {metrics}\")"
   ]
  }
 ],
 "metadata": {
  "kernelspec": {
   "display_name": "Python 3 (ipykernel)",
   "language": "python",
   "name": "python3"
  }
 },
 "nbformat": 4,
 "nbformat_minor": 4
}